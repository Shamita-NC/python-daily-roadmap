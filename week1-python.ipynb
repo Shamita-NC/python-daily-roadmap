{
 "cells": [
  {
   "cell_type": "markdown",
   "id": "9811a173",
   "metadata": {},
   "source": [
    "# Week 1: Python basics"
   ]
  },
  {
   "cell_type": "markdown",
   "id": "f7b43aea",
   "metadata": {},
   "source": [
    "## Variable"
   ]
  },
  {
   "cell_type": "markdown",
   "id": "b79253b1",
   "metadata": {},
   "source": [
    "An memory used to store a value. In python we need to declare data type before assigining a value to it. It by default takes assigns the data type based on the input value provided\n",
    "\n",
    "Lets see an example below:"
   ]
  },
  {
   "cell_type": "code",
   "execution_count": 2,
   "id": "d7ccaa71",
   "metadata": {},
   "outputs": [],
   "source": [
    "x = 18"
   ]
  },
  {
   "cell_type": "code",
   "execution_count": 3,
   "id": "374e684a",
   "metadata": {},
   "outputs": [
    {
     "data": {
      "text/plain": [
       "int"
      ]
     },
     "execution_count": 3,
     "metadata": {},
     "output_type": "execute_result"
    }
   ],
   "source": [
    "type(x)"
   ]
  },
  {
   "cell_type": "markdown",
   "id": "38ed8b0f",
   "metadata": {},
   "source": [
    "## Data Types"
   ]
  },
  {
   "cell_type": "markdown",
   "id": "2469c71f",
   "metadata": {},
   "source": [
    "Python supports the following data types\n",
    "1. int\n",
    "2. float\n",
    "3. bool\n",
    "4. str -> should be defined within quotes\n",
    "5. list\n",
    "6. tuple\n",
    "7. dict -> key value pair\n",
    "8. set -> collection of unique elements i.e, values cannot be repeated\n",
    "\n",
    "Lets see examples for each data type below"
   ]
  },
  {
   "cell_type": "code",
   "execution_count": 6,
   "id": "74b76d29",
   "metadata": {},
   "outputs": [
    {
     "data": {
      "text/plain": [
       "int"
      ]
     },
     "execution_count": 6,
     "metadata": {},
     "output_type": "execute_result"
    }
   ],
   "source": [
    "x = 17\n",
    "type(x)"
   ]
  },
  {
   "cell_type": "code",
   "execution_count": 7,
   "id": "e4532db3",
   "metadata": {},
   "outputs": [
    {
     "data": {
      "text/plain": [
       "str"
      ]
     },
     "execution_count": 7,
     "metadata": {},
     "output_type": "execute_result"
    }
   ],
   "source": [
    "a = 'shami'\n",
    "type(a)"
   ]
  },
  {
   "cell_type": "code",
   "execution_count": 8,
   "id": "b2026579",
   "metadata": {},
   "outputs": [
    {
     "data": {
      "text/plain": [
       "float"
      ]
     },
     "execution_count": 8,
     "metadata": {},
     "output_type": "execute_result"
    }
   ],
   "source": [
    "h = 18.23\n",
    "type(h)"
   ]
  },
  {
   "cell_type": "code",
   "execution_count": 9,
   "id": "1412d3ff",
   "metadata": {},
   "outputs": [
    {
     "data": {
      "text/plain": [
       "bool"
      ]
     },
     "execution_count": 9,
     "metadata": {},
     "output_type": "execute_result"
    }
   ],
   "source": [
    "b = False\n",
    "type(b)"
   ]
  },
  {
   "cell_type": "code",
   "execution_count": 12,
   "id": "5b4a52da",
   "metadata": {},
   "outputs": [
    {
     "data": {
      "text/plain": [
       "list"
      ]
     },
     "execution_count": 12,
     "metadata": {},
     "output_type": "execute_result"
    }
   ],
   "source": [
    "s = [1,2,3,4]\n",
    "type(s)"
   ]
  },
  {
   "cell_type": "code",
   "execution_count": 13,
   "id": "503d56eb",
   "metadata": {},
   "outputs": [
    {
     "data": {
      "text/plain": [
       "tuple"
      ]
     },
     "execution_count": 13,
     "metadata": {},
     "output_type": "execute_result"
    }
   ],
   "source": [
    "t = (\"sdh\",\"sia\", \"fewf\")\n",
    "type(t)"
   ]
  },
  {
   "cell_type": "code",
   "execution_count": 15,
   "id": "ccf4c226",
   "metadata": {},
   "outputs": [
    {
     "data": {
      "text/plain": [
       "dict"
      ]
     },
     "execution_count": 15,
     "metadata": {},
     "output_type": "execute_result"
    }
   ],
   "source": [
    "dic= {'is_sham':'true'}\n",
    "type(dic)"
   ]
  },
  {
   "cell_type": "code",
   "execution_count": 17,
   "id": "af75e500",
   "metadata": {},
   "outputs": [
    {
     "data": {
      "text/plain": [
       "set"
      ]
     },
     "execution_count": 17,
     "metadata": {},
     "output_type": "execute_result"
    }
   ],
   "source": [
    "y = {1,2,4,5}\n",
    "type(y)"
   ]
  },
  {
   "cell_type": "markdown",
   "id": "8cb921db",
   "metadata": {},
   "source": [
    "## List\n",
    "\n",
    "It is a list of heterogeneous elements. It can consist of int, float, string, bool any datatype."
   ]
  },
  {
   "cell_type": "code",
   "execution_count": 1,
   "id": "816b0f3c",
   "metadata": {},
   "outputs": [],
   "source": [
    "emplist = [1, 'Shamita', 9.8 ]"
   ]
  },
  {
   "cell_type": "code",
   "execution_count": 2,
   "id": "40f2f55a",
   "metadata": {},
   "outputs": [
    {
     "data": {
      "text/plain": [
       "list"
      ]
     },
     "execution_count": 2,
     "metadata": {},
     "output_type": "execute_result"
    }
   ],
   "source": [
    "type(emplist)"
   ]
  },
  {
   "cell_type": "markdown",
   "id": "c104993b",
   "metadata": {},
   "source": [
    "The elements of the list can be accessed with the help of index"
   ]
  },
  {
   "cell_type": "code",
   "execution_count": 3,
   "id": "0be9f294",
   "metadata": {},
   "outputs": [
    {
     "data": {
      "text/plain": [
       "1"
      ]
     },
     "execution_count": 3,
     "metadata": {},
     "output_type": "execute_result"
    }
   ],
   "source": [
    "emplist[0]"
   ]
  },
  {
   "cell_type": "code",
   "execution_count": 4,
   "id": "d9d6ef63",
   "metadata": {},
   "outputs": [
    {
     "data": {
      "text/plain": [
       "'Shamita'"
      ]
     },
     "execution_count": 4,
     "metadata": {},
     "output_type": "execute_result"
    }
   ],
   "source": [
    "emplist[1]"
   ]
  },
  {
   "cell_type": "markdown",
   "id": "66ac8eef",
   "metadata": {},
   "source": [
    "Here the index starts from 0\n",
    "\n",
    "Slicing:\n",
    "We can perform slicing operartion also where we defined lower limit and upper limit separated by :, where the element of the upper limit is excluded"
   ]
  },
  {
   "cell_type": "code",
   "execution_count": 5,
   "id": "0e7a6c62",
   "metadata": {},
   "outputs": [],
   "source": [
    "schools = ['Harsha', \"Educare\", \"BVB\", \"Pace PU College\", \"DSCE\", \"BITS\"]"
   ]
  },
  {
   "cell_type": "code",
   "execution_count": 6,
   "id": "33e7e573",
   "metadata": {},
   "outputs": [
    {
     "data": {
      "text/plain": [
       "['Harsha', 'Educare', 'BVB', 'Pace PU College']"
      ]
     },
     "execution_count": 6,
     "metadata": {},
     "output_type": "execute_result"
    }
   ],
   "source": [
    "schools[0:4]"
   ]
  },
  {
   "cell_type": "code",
   "execution_count": 7,
   "id": "5f1bea8b",
   "metadata": {},
   "outputs": [
    {
     "data": {
      "text/plain": [
       "['Harsha', 'BVB']"
      ]
     },
     "execution_count": 7,
     "metadata": {},
     "output_type": "execute_result"
    }
   ],
   "source": [
    "schools[0:4:2]"
   ]
  },
  {
   "cell_type": "markdown",
   "id": "30af2da5",
   "metadata": {},
   "source": [
    "In the above example you might have observed that along with lower limit and upper limit i have added 2 i.e, it gives ouptut after every 2 sequence\n",
    "\n",
    "We can perform sllicing with -ve integers too"
   ]
  },
  {
   "cell_type": "code",
   "execution_count": 8,
   "id": "8977f568",
   "metadata": {},
   "outputs": [
    {
     "data": {
      "text/plain": [
       "'BITS'"
      ]
     },
     "execution_count": 8,
     "metadata": {},
     "output_type": "execute_result"
    }
   ],
   "source": [
    "schools[-1]"
   ]
  },
  {
   "cell_type": "markdown",
   "id": "71c136c3",
   "metadata": {},
   "source": [
    "Using len() we can find out the length of the string"
   ]
  },
  {
   "cell_type": "code",
   "execution_count": 9,
   "id": "46fe63a9",
   "metadata": {},
   "outputs": [
    {
     "data": {
      "text/plain": [
       "6"
      ]
     },
     "execution_count": 9,
     "metadata": {},
     "output_type": "execute_result"
    }
   ],
   "source": [
    "len(schools)"
   ]
  },
  {
   "cell_type": "code",
   "execution_count": 10,
   "id": "708962dd",
   "metadata": {},
   "outputs": [],
   "source": [
    "teacher = [\"Jennie\", \"Shilpa\",\"Harshitha\",\"Sneha\",\"Bhavani\",\"Sharanya\"]"
   ]
  },
  {
   "cell_type": "markdown",
   "id": "e76bc450",
   "metadata": {},
   "source": [
    "Two separate list can be concatenated with + operation"
   ]
  },
  {
   "cell_type": "code",
   "execution_count": 11,
   "id": "c71c3841",
   "metadata": {},
   "outputs": [],
   "source": [
    "education = schools + teacher"
   ]
  },
  {
   "cell_type": "code",
   "execution_count": 12,
   "id": "cf7b6ad1",
   "metadata": {},
   "outputs": [
    {
     "name": "stdout",
     "output_type": "stream",
     "text": [
      "['Harsha', 'Educare', 'BVB', 'Pace PU College', 'DSCE', 'BITS', 'Jennie', 'Shilpa', 'Harshitha', 'Sneha', 'Bhavani', 'Sharanya']\n"
     ]
    }
   ],
   "source": [
    "print(education)"
   ]
  },
  {
   "cell_type": "markdown",
   "id": "7b757068",
   "metadata": {},
   "source": [
    "Using in operation you can find out if the element is there in the list or not"
   ]
  },
  {
   "cell_type": "code",
   "execution_count": 13,
   "id": "c90b3c31",
   "metadata": {},
   "outputs": [
    {
     "data": {
      "text/plain": [
       "True"
      ]
     },
     "execution_count": 13,
     "metadata": {},
     "output_type": "execute_result"
    }
   ],
   "source": [
    "'Harsha' in schools"
   ]
  },
  {
   "cell_type": "code",
   "execution_count": 14,
   "id": "00d7f646",
   "metadata": {},
   "outputs": [
    {
     "data": {
      "text/plain": [
       "False"
      ]
     },
     "execution_count": 14,
     "metadata": {},
     "output_type": "execute_result"
    }
   ],
   "source": [
    "\"Shamita\" in education"
   ]
  },
  {
   "cell_type": "code",
   "execution_count": 15,
   "id": "2e7d3a00",
   "metadata": {},
   "outputs": [
    {
     "data": {
      "text/plain": [
       "True"
      ]
     },
     "execution_count": 15,
     "metadata": {},
     "output_type": "execute_result"
    }
   ],
   "source": [
    "\"Harshitha\" in education"
   ]
  },
  {
   "cell_type": "markdown",
   "id": "906dd46d",
   "metadata": {},
   "source": [
    "reverse() operation reverses the string"
   ]
  },
  {
   "cell_type": "code",
   "execution_count": 16,
   "id": "cb0b1da4",
   "metadata": {},
   "outputs": [],
   "source": [
    "education.reverse()"
   ]
  },
  {
   "cell_type": "code",
   "execution_count": 17,
   "id": "a8b99ffc",
   "metadata": {},
   "outputs": [
    {
     "name": "stdout",
     "output_type": "stream",
     "text": [
      "['Sharanya', 'Bhavani', 'Sneha', 'Harshitha', 'Shilpa', 'Jennie', 'BITS', 'DSCE', 'Pace PU College', 'BVB', 'Educare', 'Harsha']\n"
     ]
    }
   ],
   "source": [
    "print(education)"
   ]
  },
  {
   "cell_type": "code",
   "execution_count": 18,
   "id": "8e75915e",
   "metadata": {},
   "outputs": [],
   "source": [
    "arr = [1, 2 ,3]"
   ]
  },
  {
   "cell_type": "code",
   "execution_count": 19,
   "id": "9a3b9894",
   "metadata": {},
   "outputs": [
    {
     "name": "stdout",
     "output_type": "stream",
     "text": [
      "[1, 2, 3]\n"
     ]
    }
   ],
   "source": [
    "print(arr)"
   ]
  },
  {
   "cell_type": "code",
   "execution_count": 20,
   "id": "f6c1fb01",
   "metadata": {},
   "outputs": [
    {
     "name": "stdout",
     "output_type": "stream",
     "text": [
      "1 2 3\n"
     ]
    }
   ],
   "source": [
    "print(*arr)"
   ]
  },
  {
   "cell_type": "code",
   "execution_count": 21,
   "id": "d14bd7b0",
   "metadata": {},
   "outputs": [
    {
     "data": {
      "text/plain": [
       "0"
      ]
     },
     "execution_count": 21,
     "metadata": {},
     "output_type": "execute_result"
    }
   ],
   "source": [
    "arr[0] - 1"
   ]
  },
  {
   "cell_type": "code",
   "execution_count": 22,
   "id": "683e95a2",
   "metadata": {},
   "outputs": [
    {
     "name": "stdout",
     "output_type": "stream",
     "text": [
      "[0, 1, 2]\n"
     ]
    }
   ],
   "source": [
    "for i in range(len(arr)):\n",
    "    arr[i] = arr[i] -1\n",
    "\n",
    "print(arr)"
   ]
  },
  {
   "cell_type": "markdown",
   "id": "b22d7db8",
   "metadata": {},
   "source": [
    "Sorting in ascending order:\n",
    "    arr.sort()"
   ]
  },
  {
   "cell_type": "code",
   "execution_count": 24,
   "id": "0d5e6205",
   "metadata": {},
   "outputs": [
    {
     "name": "stdout",
     "output_type": "stream",
     "text": [
      "['BITS', 'BVB', 'Bhavani', 'DSCE', 'Educare', 'Harsha', 'Harshitha', 'Jennie', 'Pace PU College', 'Sharanya', 'Shilpa', 'Sneha']\n"
     ]
    }
   ],
   "source": [
    "education.sort()\n",
    "print(education)"
   ]
  },
  {
   "cell_type": "markdown",
   "id": "6947773b",
   "metadata": {},
   "source": [
    "For descending order: arr.sort(reverse=True)"
   ]
  },
  {
   "cell_type": "code",
   "execution_count": 25,
   "id": "ae159448",
   "metadata": {},
   "outputs": [
    {
     "name": "stdout",
     "output_type": "stream",
     "text": [
      "['Sneha', 'Shilpa', 'Sharanya', 'Pace PU College', 'Jennie', 'Harshitha', 'Harsha', 'Educare', 'DSCE', 'Bhavani', 'BVB', 'BITS']\n"
     ]
    }
   ],
   "source": [
    "education.sort(reverse=True)\n",
    "print(education)"
   ]
  },
  {
   "cell_type": "code",
   "execution_count": 27,
   "id": "d2d1626d",
   "metadata": {},
   "outputs": [],
   "source": [
    "a= [852,-566, 182, -638, -693, -323]"
   ]
  },
  {
   "cell_type": "code",
   "execution_count": 29,
   "id": "449bfb3f",
   "metadata": {},
   "outputs": [
    {
     "name": "stdout",
     "output_type": "stream",
     "text": [
      "[852, 182, -323, -566, -638, -693]\n"
     ]
    }
   ],
   "source": [
    "a.sort(reverse=True)\n",
    "print(a)"
   ]
  },
  {
   "cell_type": "markdown",
   "id": "f991da51",
   "metadata": {},
   "source": [
    "## Type conversion"
   ]
  },
  {
   "cell_type": "markdown",
   "id": "6a872d9b",
   "metadata": {},
   "source": [
    "You can convert a value from int to float to string and vice versa. For that you need to pass to the value you want to convert"
   ]
  },
  {
   "cell_type": "code",
   "execution_count": 34,
   "id": "41bca506",
   "metadata": {},
   "outputs": [
    {
     "data": {
      "text/plain": [
       "int"
      ]
     },
     "execution_count": 34,
     "metadata": {},
     "output_type": "execute_result"
    }
   ],
   "source": [
    "a =5\n",
    "type(a)"
   ]
  },
  {
   "cell_type": "code",
   "execution_count": 31,
   "id": "adf5fac9",
   "metadata": {},
   "outputs": [],
   "source": [
    "b = float(a)"
   ]
  },
  {
   "cell_type": "code",
   "execution_count": 33,
   "id": "e2f8252c",
   "metadata": {},
   "outputs": [
    {
     "data": {
      "text/plain": [
       "float"
      ]
     },
     "execution_count": 33,
     "metadata": {},
     "output_type": "execute_result"
    }
   ],
   "source": [
    "type(b)"
   ]
  },
  {
   "cell_type": "code",
   "execution_count": 35,
   "id": "0769555d",
   "metadata": {},
   "outputs": [
    {
     "name": "stdout",
     "output_type": "stream",
     "text": [
      "5.0\n"
     ]
    }
   ],
   "source": [
    "print(b)"
   ]
  },
  {
   "cell_type": "code",
   "execution_count": 36,
   "id": "4383a27a",
   "metadata": {},
   "outputs": [],
   "source": [
    "c= str(b)"
   ]
  },
  {
   "cell_type": "code",
   "execution_count": 37,
   "id": "0be5923a",
   "metadata": {},
   "outputs": [
    {
     "name": "stdout",
     "output_type": "stream",
     "text": [
      "5.0\n"
     ]
    }
   ],
   "source": [
    "print(c)"
   ]
  },
  {
   "cell_type": "code",
   "execution_count": 38,
   "id": "8bdaf2f3",
   "metadata": {},
   "outputs": [
    {
     "data": {
      "text/plain": [
       "str"
      ]
     },
     "execution_count": 38,
     "metadata": {},
     "output_type": "execute_result"
    }
   ],
   "source": [
    "type(c)"
   ]
  },
  {
   "cell_type": "code",
   "execution_count": 39,
   "id": "6e8c18d7",
   "metadata": {},
   "outputs": [],
   "source": [
    "a = [1,2,3,4]"
   ]
  },
  {
   "cell_type": "code",
   "execution_count": 41,
   "id": "8b2403a8",
   "metadata": {},
   "outputs": [
    {
     "data": {
      "text/plain": [
       "list"
      ]
     },
     "execution_count": 41,
     "metadata": {},
     "output_type": "execute_result"
    }
   ],
   "source": [
    "type(a)"
   ]
  },
  {
   "cell_type": "code",
   "execution_count": 42,
   "id": "40640090",
   "metadata": {},
   "outputs": [],
   "source": [
    "b = tuple(a)"
   ]
  },
  {
   "cell_type": "code",
   "execution_count": 43,
   "id": "d53edcc8",
   "metadata": {},
   "outputs": [
    {
     "name": "stdout",
     "output_type": "stream",
     "text": [
      "(1, 2, 3, 4)\n"
     ]
    }
   ],
   "source": [
    "print(b)"
   ]
  },
  {
   "cell_type": "code",
   "execution_count": 44,
   "id": "a8f7db90",
   "metadata": {},
   "outputs": [
    {
     "data": {
      "text/plain": [
       "tuple"
      ]
     },
     "execution_count": 44,
     "metadata": {},
     "output_type": "execute_result"
    }
   ],
   "source": [
    "type(b)"
   ]
  },
  {
   "cell_type": "code",
   "execution_count": 45,
   "id": "f4b631eb",
   "metadata": {},
   "outputs": [],
   "source": [
    "c = set(a)"
   ]
  },
  {
   "cell_type": "code",
   "execution_count": 46,
   "id": "b5a2bcc8",
   "metadata": {},
   "outputs": [
    {
     "name": "stdout",
     "output_type": "stream",
     "text": [
      "{1, 2, 3, 4}\n"
     ]
    }
   ],
   "source": [
    "print(c)"
   ]
  },
  {
   "cell_type": "code",
   "execution_count": 47,
   "id": "8512152a",
   "metadata": {},
   "outputs": [
    {
     "data": {
      "text/plain": [
       "set"
      ]
     },
     "execution_count": 47,
     "metadata": {},
     "output_type": "execute_result"
    }
   ],
   "source": [
    "type(c)"
   ]
  },
  {
   "cell_type": "markdown",
   "id": "7fe30ddd",
   "metadata": {},
   "source": [
    "## Input and Output functions"
   ]
  },
  {
   "cell_type": "markdown",
   "id": "0d9cd4f0",
   "metadata": {},
   "source": [
    "To take input from the user we use input() funtion and to give the output we use print() funtion\n",
    "Generally the input value is string. Based on our requirement we can convert the string to our usecase.\n",
    "To print an output use print funtion with \"\" where we write the sentences which we want to be printed along with the variables whose value we want in output"
   ]
  },
  {
   "cell_type": "code",
   "execution_count": 48,
   "id": "d74f770c",
   "metadata": {},
   "outputs": [
    {
     "name": "stdout",
     "output_type": "stream",
     "text": [
      "Enter your name:Shamita\n"
     ]
    }
   ],
   "source": [
    "name = input(\"Enter your name:\")"
   ]
  },
  {
   "cell_type": "code",
   "execution_count": 50,
   "id": "860086b5",
   "metadata": {},
   "outputs": [
    {
     "name": "stdout",
     "output_type": "stream",
     "text": [
      "My name is Shamita\n"
     ]
    }
   ],
   "source": [
    "print(\"My name is \"+name)"
   ]
  },
  {
   "cell_type": "markdown",
   "id": "4096b2c9",
   "metadata": {},
   "source": [
    "F-string allows you to format selected parts of a string. To specify a string as an f-string, simply put an f in front of the string literal."
   ]
  },
  {
   "cell_type": "code",
   "execution_count": 51,
   "id": "c69a6de0",
   "metadata": {},
   "outputs": [],
   "source": [
    "name =\"Shamita\"\n",
    "age= 23"
   ]
  },
  {
   "cell_type": "code",
   "execution_count": 54,
   "id": "e659e898",
   "metadata": {},
   "outputs": [
    {
     "name": "stdout",
     "output_type": "stream",
     "text": [
      "My name is Shamita and my age is 23\n"
     ]
    }
   ],
   "source": [
    "print(f\"My name is {name} and my age is {age}\")"
   ]
  },
  {
   "cell_type": "markdown",
   "id": "a864bac4",
   "metadata": {},
   "source": [
    "## Arithemtic Operations"
   ]
  },
  {
   "cell_type": "raw",
   "id": "d85738a7",
   "metadata": {},
   "source": [
    "Arithmetic:\n",
    "\n",
    "\"+ -> addition\n",
    "\"- -> subtraction\n",
    "\"* -> multiplication\n",
    "/ -> division\n",
    "% -> modulus ( gives the remainder)\n",
    "// -> floor divison \n",
    "** -> exponential\n",
    "\n",
    "Logical:\n",
    "and -> 1 when both the conditions are satisfied\n",
    "or -> either one of the conditiion is satisfied\n",
    "not -> reverses the truth value\n",
    "\n",
    "Comparison:\n",
    "\"== -> checks if LHS is equal to RHS\n",
    "\"!= -> checks if LHS is not equal to RHS\n",
    "\"< -> checks if LHS is lesser than RHS\n",
    "\"> -> checks if LHS is greater than RHS\n",
    "\"<= -> checks if LHS is lesser or equal to RHS\n",
    "\">= -> checks if LHS is greater or equal to RHS\n"
   ]
  },
  {
   "cell_type": "markdown",
   "id": "4acbc2fa",
   "metadata": {},
   "source": [
    "Write a calculator for 2 numbers (addition, subtraction, multiplication, division)."
   ]
  },
  {
   "cell_type": "code",
   "execution_count": 1,
   "id": "4b7949b3",
   "metadata": {},
   "outputs": [
    {
     "name": "stdout",
     "output_type": "stream",
     "text": [
      "30 -10 200 2.0\n"
     ]
    }
   ],
   "source": [
    "a = 10\n",
    "b =20\n",
    "\n",
    "print(a+b, a-b, a*b, b/a)"
   ]
  },
  {
   "cell_type": "markdown",
   "id": "57bbfdfa",
   "metadata": {},
   "source": [
    "Check if a number is even or odd using modulus operator."
   ]
  },
  {
   "cell_type": "code",
   "execution_count": 2,
   "id": "eb09a1ef",
   "metadata": {},
   "outputs": [
    {
     "name": "stdout",
     "output_type": "stream",
     "text": [
      "20 is an even no\n"
     ]
    }
   ],
   "source": [
    "if(b%2==0):\n",
    "    print(f\"{b} is an even no\")\n",
    "else:\n",
    "    print(f\"{b} is an odd no\")"
   ]
  },
  {
   "cell_type": "markdown",
   "id": "7c43f472",
   "metadata": {},
   "source": [
    "Use logical operators in conditional statements (e.g., voting age check)."
   ]
  },
  {
   "cell_type": "code",
   "execution_count": 5,
   "id": "19b6f3e0",
   "metadata": {},
   "outputs": [
    {
     "name": "stdout",
     "output_type": "stream",
     "text": [
      "Enter the age :78\n",
      "The user is eligible for voting\n"
     ]
    }
   ],
   "source": [
    "age=input(\"Enter the age :\")\n",
    "if (int(age)>=18):\n",
    "    print(f\"The user is eligible for voting\")\n",
    "else:\n",
    "    print(f\"The user is not eligible for voting\")"
   ]
  },
  {
   "cell_type": "markdown",
   "id": "2743a125",
   "metadata": {},
   "source": [
    "## Practice questions"
   ]
  },
  {
   "cell_type": "markdown",
   "id": "e6f0f14d",
   "metadata": {},
   "source": [
    "1.\tPrint your name and favorite quote"
   ]
  },
  {
   "cell_type": "code",
   "execution_count": 6,
   "id": "3421f4a7",
   "metadata": {},
   "outputs": [
    {
     "name": "stdout",
     "output_type": "stream",
     "text": [
      "My name is Shamita and my quote is Hare krishna\n"
     ]
    }
   ],
   "source": [
    "print(\"My name is Shamita and my quote is Hare krishna\")"
   ]
  },
  {
   "cell_type": "markdown",
   "id": "86b68e40",
   "metadata": {},
   "source": [
    "2. Write a program that:\n",
    "•\tAsks for the user's name and age\n",
    "•\tPrints a greeting like:\n",
    "Hello, [name]! You are [age] years old.\n"
   ]
  },
  {
   "cell_type": "code",
   "execution_count": 10,
   "id": "b075cd2e",
   "metadata": {},
   "outputs": [
    {
     "name": "stdout",
     "output_type": "stream",
     "text": [
      "enter your name: sham\n",
      "enter your age23\n",
      "Hello, sham! You are 23 years old.\n"
     ]
    }
   ],
   "source": [
    "name = input(\"enter your name: \")\n",
    "age = input(\"enter your age\")\n",
    "print(f\"Hello, {name}! You are {age} years old.\")"
   ]
  },
  {
   "cell_type": "markdown",
   "id": "8203b48c",
   "metadata": {},
   "source": [
    "3. Write a program that:\n",
    "•\tTakes two numbers from the user\n",
    "•\tPrints the sum, difference, product, and quotient\n",
    "📌 Bonus: Use round() to round the quotient to 2 decimal places.\n"
   ]
  },
  {
   "cell_type": "code",
   "execution_count": 13,
   "id": "ece3317b",
   "metadata": {},
   "outputs": [
    {
     "name": "stdout",
     "output_type": "stream",
     "text": [
      "Enter 2 no: 1 2\n"
     ]
    }
   ],
   "source": [
    "a, b =input(\"Enter 2 no: \").split()"
   ]
  },
  {
   "cell_type": "code",
   "execution_count": 16,
   "id": "f229667e",
   "metadata": {},
   "outputs": [
    {
     "name": "stdout",
     "output_type": "stream",
     "text": [
      "3 -1 2 2.0\n"
     ]
    }
   ],
   "source": [
    "a= int(a)\n",
    "b = int(b)\n",
    "print(a+b, a-b, a*b, b/a)"
   ]
  },
  {
   "cell_type": "code",
   "execution_count": 21,
   "id": "41961294",
   "metadata": {},
   "outputs": [
    {
     "name": "stdout",
     "output_type": "stream",
     "text": [
      "5.05\n"
     ]
    }
   ],
   "source": [
    "c = 111/22\n",
    "print(round(c,2))"
   ]
  },
  {
   "cell_type": "markdown",
   "id": "71a1938b",
   "metadata": {},
   "source": [
    "4. Write a program that:\n",
    "•\tAsks the user for two numbers\n",
    "•\tChecks and prints whether both numbers are greater than 10"
   ]
  },
  {
   "cell_type": "code",
   "execution_count": 24,
   "id": "466cf79e",
   "metadata": {},
   "outputs": [
    {
     "name": "stdout",
     "output_type": "stream",
     "text": [
      "Enter 2 no:18 3\n",
      "18 greater than or equal to 10\n"
     ]
    }
   ],
   "source": [
    "p, q =input(\"Enter 2 no:\").split()\n",
    "if (int(p)>10) and (int(q)>10):\n",
    "    print(\"Both the no are greater than 10\")\n",
    "elif (int(p)>=10):\n",
    "    print(f\"{p} greater than or equal to 10\")\n",
    "elif (int(q)>=10):\n",
    "    print(f\"{q} is greater than or equal to 10\")\n",
    "else:\n",
    "    print(\"Both are lesser than 10\")\n",
    "    "
   ]
  },
  {
   "cell_type": "code",
   "execution_count": null,
   "id": "665a441b",
   "metadata": {},
   "outputs": [],
   "source": []
  }
 ],
 "metadata": {
  "kernelspec": {
   "display_name": "Python 3 (ipykernel)",
   "language": "python",
   "name": "python3"
  },
  "language_info": {
   "codemirror_mode": {
    "name": "ipython",
    "version": 3
   },
   "file_extension": ".py",
   "mimetype": "text/x-python",
   "name": "python",
   "nbconvert_exporter": "python",
   "pygments_lexer": "ipython3",
   "version": "3.7.9"
  }
 },
 "nbformat": 4,
 "nbformat_minor": 5
}
